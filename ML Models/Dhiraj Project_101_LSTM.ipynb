{
  "nbformat": 4,
  "nbformat_minor": 0,
  "metadata": {
    "colab": {
      "provenance": [],
      "collapsed_sections": []
    },
    "kernelspec": {
      "name": "python3",
      "display_name": "Python 3"
    }
  },
  "cells": [
    {
      "cell_type": "markdown",
      "metadata": {
        "id": "GFoVu-Pu077h"
      },
      "source": [
        "## **Step1:Gathering Data**"
      ]
    },
    {
      "cell_type": "code",
      "metadata": {
        "colab": {
          "base_uri": "https://localhost:8080/"
        },
        "id": "YctsjgP9TvHk",
        "outputId": "591e112e-7df3-4a65-f910-0d734fd7781c"
      },
      "source": [
        "!pip install yfinance"
      ],
      "execution_count": null,
      "outputs": [
        {
          "output_type": "stream",
          "name": "stdout",
          "text": [
            "Collecting yfinance\n",
            "  Downloading yfinance-0.1.66-py2.py3-none-any.whl (25 kB)\n",
            "Requirement already satisfied: requests>=2.20 in /usr/local/lib/python3.7/dist-packages (from yfinance) (2.23.0)\n",
            "Requirement already satisfied: pandas>=0.24 in /usr/local/lib/python3.7/dist-packages (from yfinance) (1.1.5)\n",
            "Requirement already satisfied: numpy>=1.15 in /usr/local/lib/python3.7/dist-packages (from yfinance) (1.19.5)\n",
            "Collecting lxml>=4.5.1\n",
            "  Downloading lxml-4.6.4-cp37-cp37m-manylinux_2_17_x86_64.manylinux2014_x86_64.manylinux_2_24_x86_64.whl (6.3 MB)\n",
            "\u001b[K     |████████████████████████████████| 6.3 MB 7.7 MB/s \n",
            "\u001b[?25hRequirement already satisfied: multitasking>=0.0.7 in /usr/local/lib/python3.7/dist-packages (from yfinance) (0.0.9)\n",
            "Requirement already satisfied: pytz>=2017.2 in /usr/local/lib/python3.7/dist-packages (from pandas>=0.24->yfinance) (2018.9)\n",
            "Requirement already satisfied: python-dateutil>=2.7.3 in /usr/local/lib/python3.7/dist-packages (from pandas>=0.24->yfinance) (2.8.2)\n",
            "Requirement already satisfied: six>=1.5 in /usr/local/lib/python3.7/dist-packages (from python-dateutil>=2.7.3->pandas>=0.24->yfinance) (1.15.0)\n",
            "Requirement already satisfied: idna<3,>=2.5 in /usr/local/lib/python3.7/dist-packages (from requests>=2.20->yfinance) (2.10)\n",
            "Requirement already satisfied: certifi>=2017.4.17 in /usr/local/lib/python3.7/dist-packages (from requests>=2.20->yfinance) (2021.10.8)\n",
            "Requirement already satisfied: chardet<4,>=3.0.2 in /usr/local/lib/python3.7/dist-packages (from requests>=2.20->yfinance) (3.0.4)\n",
            "Requirement already satisfied: urllib3!=1.25.0,!=1.25.1,<1.26,>=1.21.1 in /usr/local/lib/python3.7/dist-packages (from requests>=2.20->yfinance) (1.24.3)\n",
            "Installing collected packages: lxml, yfinance\n",
            "  Attempting uninstall: lxml\n",
            "    Found existing installation: lxml 4.2.6\n",
            "    Uninstalling lxml-4.2.6:\n",
            "      Successfully uninstalled lxml-4.2.6\n",
            "Successfully installed lxml-4.6.4 yfinance-0.1.66\n"
          ]
        }
      ]
    },
    {
      "cell_type": "code",
      "metadata": {
        "id": "wYpb0iPP1WVv"
      },
      "source": [
        "import math\n",
        "import pandas_datareader as web\n",
        "import numpy as np\n",
        "import pandas as pd\n",
        "from sklearn.preprocessing import MinMaxScaler\n",
        "from tensorflow.keras import Sequential\n",
        "from keras.layers import Dense, LSTM\n",
        "import matplotlib.pyplot as plt\n",
        "plt.style.use('fivethirtyeight')\n",
        "\n",
        "\n"
      ],
      "execution_count": null,
      "outputs": []
    },
    {
      "cell_type": "code",
      "metadata": {
        "id": "fCWeq83q1B0g",
        "colab": {
          "base_uri": "https://localhost:8080/",
          "height": 467
        },
        "outputId": "da7b0085-dbfb-442c-ef0a-a556e66c3084"
      },
      "source": [
        "#df = web.DataReader('AAPL',data_source='yahoo',start='2014-01-01',end='2020-06-01')\n",
        "#df\n",
        "#df.shape\n",
        "from datetime import datetime\n",
        "import yfinance as yf\n",
        "import pandas_datareader.data as pdr\n",
        "import pandas as pd\n",
        "\n",
        "yf.pdr_override()\n",
        "\n",
        "start = datetime.strptime('2014-01-01', '%Y-%m-%d')\n",
        "end = datetime.strptime('2021-06-01', '%Y-%m-%d')\n",
        "\n",
        "df = pdr.get_data_yahoo(\"AAPL\", start, end)\n",
        "df\n"
      ],
      "execution_count": null,
      "outputs": [
        {
          "output_type": "stream",
          "name": "stdout",
          "text": [
            "\r[*********************100%***********************]  1 of 1 completed\n"
          ]
        },
        {
          "output_type": "execute_result",
          "data": {
            "text/html": [
              "<div>\n",
              "<style scoped>\n",
              "    .dataframe tbody tr th:only-of-type {\n",
              "        vertical-align: middle;\n",
              "    }\n",
              "\n",
              "    .dataframe tbody tr th {\n",
              "        vertical-align: top;\n",
              "    }\n",
              "\n",
              "    .dataframe thead th {\n",
              "        text-align: right;\n",
              "    }\n",
              "</style>\n",
              "<table border=\"1\" class=\"dataframe\">\n",
              "  <thead>\n",
              "    <tr style=\"text-align: right;\">\n",
              "      <th></th>\n",
              "      <th>Open</th>\n",
              "      <th>High</th>\n",
              "      <th>Low</th>\n",
              "      <th>Close</th>\n",
              "      <th>Adj Close</th>\n",
              "      <th>Volume</th>\n",
              "    </tr>\n",
              "    <tr>\n",
              "      <th>Date</th>\n",
              "      <th></th>\n",
              "      <th></th>\n",
              "      <th></th>\n",
              "      <th></th>\n",
              "      <th></th>\n",
              "      <th></th>\n",
              "    </tr>\n",
              "  </thead>\n",
              "  <tbody>\n",
              "    <tr>\n",
              "      <th>2014-01-02</th>\n",
              "      <td>19.845715</td>\n",
              "      <td>19.893929</td>\n",
              "      <td>19.715000</td>\n",
              "      <td>19.754642</td>\n",
              "      <td>17.516605</td>\n",
              "      <td>234684800</td>\n",
              "    </tr>\n",
              "    <tr>\n",
              "      <th>2014-01-03</th>\n",
              "      <td>19.745001</td>\n",
              "      <td>19.775000</td>\n",
              "      <td>19.301071</td>\n",
              "      <td>19.320715</td>\n",
              "      <td>17.131844</td>\n",
              "      <td>392467600</td>\n",
              "    </tr>\n",
              "    <tr>\n",
              "      <th>2014-01-06</th>\n",
              "      <td>19.194643</td>\n",
              "      <td>19.528570</td>\n",
              "      <td>19.057142</td>\n",
              "      <td>19.426071</td>\n",
              "      <td>17.225258</td>\n",
              "      <td>412610800</td>\n",
              "    </tr>\n",
              "    <tr>\n",
              "      <th>2014-01-07</th>\n",
              "      <td>19.440001</td>\n",
              "      <td>19.498571</td>\n",
              "      <td>19.211430</td>\n",
              "      <td>19.287144</td>\n",
              "      <td>17.102077</td>\n",
              "      <td>317209200</td>\n",
              "    </tr>\n",
              "    <tr>\n",
              "      <th>2014-01-08</th>\n",
              "      <td>19.243214</td>\n",
              "      <td>19.484285</td>\n",
              "      <td>19.238930</td>\n",
              "      <td>19.409286</td>\n",
              "      <td>17.210375</td>\n",
              "      <td>258529600</td>\n",
              "    </tr>\n",
              "    <tr>\n",
              "      <th>...</th>\n",
              "      <td>...</td>\n",
              "      <td>...</td>\n",
              "      <td>...</td>\n",
              "      <td>...</td>\n",
              "      <td>...</td>\n",
              "      <td>...</td>\n",
              "    </tr>\n",
              "    <tr>\n",
              "      <th>2021-05-24</th>\n",
              "      <td>126.010002</td>\n",
              "      <td>127.940002</td>\n",
              "      <td>125.940002</td>\n",
              "      <td>127.099998</td>\n",
              "      <td>126.724907</td>\n",
              "      <td>63092900</td>\n",
              "    </tr>\n",
              "    <tr>\n",
              "      <th>2021-05-25</th>\n",
              "      <td>127.820000</td>\n",
              "      <td>128.320007</td>\n",
              "      <td>126.320000</td>\n",
              "      <td>126.900002</td>\n",
              "      <td>126.525497</td>\n",
              "      <td>72009500</td>\n",
              "    </tr>\n",
              "    <tr>\n",
              "      <th>2021-05-26</th>\n",
              "      <td>126.959999</td>\n",
              "      <td>127.389999</td>\n",
              "      <td>126.419998</td>\n",
              "      <td>126.849998</td>\n",
              "      <td>126.475647</td>\n",
              "      <td>56575900</td>\n",
              "    </tr>\n",
              "    <tr>\n",
              "      <th>2021-05-27</th>\n",
              "      <td>126.440002</td>\n",
              "      <td>127.639999</td>\n",
              "      <td>125.080002</td>\n",
              "      <td>125.279999</td>\n",
              "      <td>124.910278</td>\n",
              "      <td>94625600</td>\n",
              "    </tr>\n",
              "    <tr>\n",
              "      <th>2021-05-28</th>\n",
              "      <td>125.570000</td>\n",
              "      <td>125.800003</td>\n",
              "      <td>124.550003</td>\n",
              "      <td>124.610001</td>\n",
              "      <td>124.242256</td>\n",
              "      <td>71311100</td>\n",
              "    </tr>\n",
              "  </tbody>\n",
              "</table>\n",
              "<p>1865 rows × 6 columns</p>\n",
              "</div>"
            ],
            "text/plain": [
              "                  Open        High  ...   Adj Close     Volume\n",
              "Date                                ...                       \n",
              "2014-01-02   19.845715   19.893929  ...   17.516605  234684800\n",
              "2014-01-03   19.745001   19.775000  ...   17.131844  392467600\n",
              "2014-01-06   19.194643   19.528570  ...   17.225258  412610800\n",
              "2014-01-07   19.440001   19.498571  ...   17.102077  317209200\n",
              "2014-01-08   19.243214   19.484285  ...   17.210375  258529600\n",
              "...                ...         ...  ...         ...        ...\n",
              "2021-05-24  126.010002  127.940002  ...  126.724907   63092900\n",
              "2021-05-25  127.820000  128.320007  ...  126.525497   72009500\n",
              "2021-05-26  126.959999  127.389999  ...  126.475647   56575900\n",
              "2021-05-27  126.440002  127.639999  ...  124.910278   94625600\n",
              "2021-05-28  125.570000  125.800003  ...  124.242256   71311100\n",
              "\n",
              "[1865 rows x 6 columns]"
            ]
          },
          "metadata": {},
          "execution_count": 10
        }
      ]
    },
    {
      "cell_type": "code",
      "metadata": {
        "id": "-qM6AejA3Fxw",
        "colab": {
          "base_uri": "https://localhost:8080/",
          "height": 558
        },
        "outputId": "71a3e793-c17d-431c-e230-209c2208f86c"
      },
      "source": [
        "#Visualize the closing price history\n",
        "plt.figure(figsize=(16,8))\n",
        "plt.title('Close Price History')\n",
        "plt.plot(df['Close'])\n",
        "plt.xlabel('Date',fontsize=18)\n",
        "plt.ylabel('Close price USD($)',fontsize=18)\n",
        "plt.show()"
      ],
      "execution_count": null,
      "outputs": [
        {
          "output_type": "display_data",
          "data": {
            "image/png": "[encoded data removed]",
            "text/plain": [
              "<Figure size 1152x576 with 1 Axes>"
            ]
          },
          "metadata": {}
        }
      ]
    },
    {
      "cell_type": "markdown",
      "metadata": {
        "id": "3K_d_jKB4b7K"
      },
      "source": [
        "## **Step2 : Preparing Data**"
      ]
    },
    {
      "cell_type": "code",
      "metadata": {
        "id": "hgRxgKsF4iqn",
        "colab": {
          "base_uri": "https://localhost:8080/"
        },
        "outputId": "da9456da-628f-481e-e492-3210a0ac1733"
      },
      "source": [
        "#creating a new dataframe which contains only close rates\n",
        "data = df.filter(['Close'])\n",
        "\n",
        "#covert the dataframe into numpy array\n",
        "dataset=data.values\n",
        "\n",
        "#number of rows to train the data\n",
        "training_data_len=math.ceil(len(dataset) * .8)\n",
        "training_data_len"
      ],
      "execution_count": null,
      "outputs": [
        {
          "output_type": "execute_result",
          "data": {
            "text/plain": [
              "1492"
            ]
          },
          "metadata": {},
          "execution_count": 12
        }
      ]
    },
    {
      "cell_type": "code",
      "metadata": {
        "id": "fx9h7wAC5V1T",
        "colab": {
          "base_uri": "https://localhost:8080/"
        },
        "outputId": "c36f6983-4464-423d-8da6-b07bb1b6aa6e"
      },
      "source": [
        "#Scale the data\n",
        "#Most of the times , dataset contains features highly  varying in magnitudes, units and range.\n",
        "#MinMax scaling brings the value to a specified range.\n",
        "scaler = MinMaxScaler(feature_range=(0,1))\n",
        "#fit and transform the data\n",
        "scaled_data=scaler.fit_transform(dataset)\n",
        "\n",
        "scaled_data"
      ],
      "execution_count": null,
      "outputs": [
        {
          "output_type": "execute_result",
          "data": {
            "text/plain": [
              "array([[0.01520506],\n",
              "       [0.01174225],\n",
              "       [0.01258301],\n",
              "       ...,\n",
              "       [0.86984349],\n",
              "       [0.85731464],\n",
              "       [0.85196795]])"
            ]
          },
          "metadata": {},
          "execution_count": 13
        }
      ]
    },
    {
      "cell_type": "code",
      "metadata": {
        "id": "YxuvztlA7MfH",
        "colab": {
          "base_uri": "https://localhost:8080/"
        },
        "outputId": "08592b87-891c-4352-d934-7f75bd7fd8c1"
      },
      "source": [
        "#creating training dataset\n",
        "train_data=scaled_data[0:training_data_len,:]\n",
        "x_train=[]\n",
        "y_train=[]\n",
        " \n",
        "train_data"
      ],
      "execution_count": null,
      "outputs": [
        {
          "output_type": "execute_result",
          "data": {
            "text/plain": [
              "array([[0.01520506],\n",
              "       [0.01174225],\n",
              "       [0.01258301],\n",
              "       ...,\n",
              "       [0.38456978],\n",
              "       [0.37517316],\n",
              "       [0.37974176]])"
            ]
          },
          "metadata": {},
          "execution_count": 14
        }
      ]
    },
    {
      "cell_type": "code",
      "metadata": {
        "id": "3YHCQReH7yMq",
        "colab": {
          "base_uri": "https://localhost:8080/"
        },
        "outputId": "08ba57e4-4b67-4cb5-e412-cda5fd0f645a"
      },
      "source": [
        "for i in range(60, len(train_data)):\n",
        "  x_train.append(train_data[i-60:i, 0])\n",
        "  y_train.append(train_data[i,0])\n",
        "  if i<=60:\n",
        "    print(x_train)  \n",
        "    print(y_train)\n",
        "    print()"
      ],
      "execution_count": null,
      "outputs": [
        {
          "output_type": "stream",
          "name": "stdout",
          "text": [
            "[array([0.01520506, 0.01174225, 0.01258301, 0.01147435, 0.01244907,\n",
            "       0.01047112, 0.0094508 , 0.01024597, 0.01328413, 0.01641064,\n",
            "       0.01552428, 0.01165389, 0.01404795, 0.01474337, 0.01607433,\n",
            "       0.01319293, 0.01445549, 0.00191525, 0.00027646, 0.        ,\n",
            "       0.0002337 , 0.00049876, 0.0025679 , 0.00365093, 0.00362813,\n",
            "       0.00567162, 0.00832502, 0.01031153, 0.01030011, 0.01272552,\n",
            "       0.0126001 , 0.01317013, 0.01071337, 0.00894064, 0.0072591 ,\n",
            "       0.00791461, 0.00634994, 0.00500756, 0.00794882, 0.00754127,\n",
            "       0.00797447, 0.00896628, 0.0092855 , 0.00882663, 0.00873829,\n",
            "       0.00887509, 0.01034856, 0.01049677, 0.00879814, 0.00709951,\n",
            "       0.00768377, 0.00901189, 0.00897199, 0.00824237, 0.00943084,\n",
            "       0.01123209, 0.01288512, 0.01140024, 0.01073902, 0.01056801])]\n",
            "[0.010533828371510456]\n",
            "\n"
          ]
        }
      ]
    },
    {
      "cell_type": "code",
      "metadata": {
        "id": "1Fv87BS_87uI",
        "colab": {
          "base_uri": "https://localhost:8080/"
        },
        "outputId": "c468fb0f-9a89-4e80-98a7-d06d27935e9b"
      },
      "source": [
        "#convert to numpy array\n",
        "x_train,y_train = np.array(x_train),np.array(y_train)\n",
        "x_train.shape"
      ],
      "execution_count": null,
      "outputs": [
        {
          "output_type": "execute_result",
          "data": {
            "text/plain": [
              "(1432, 60)"
            ]
          },
          "metadata": {},
          "execution_count": 16
        }
      ]
    },
    {
      "cell_type": "code",
      "metadata": {
        "id": "fVL-pxK5CPLu",
        "colab": {
          "base_uri": "https://localhost:8080/"
        },
        "outputId": "b9fb96a4-1e5c-4c2a-c78d-2fb8f801856c"
      },
      "source": [
        "#reshape the data i.e from 2d to 3d\n",
        "#samples,timesteps,features\n",
        "x_train=np.reshape(x_train,(x_train.shape[0],x_train.shape[1],1))\n",
        "x_train.shape\n"
      ],
      "execution_count": null,
      "outputs": [
        {
          "output_type": "execute_result",
          "data": {
            "text/plain": [
              "(1432, 60, 1)"
            ]
          },
          "metadata": {},
          "execution_count": 17
        }
      ]
    },
    {
      "cell_type": "markdown",
      "metadata": {
        "id": "8UyxCfLpHbcU"
      },
      "source": [
        "## **Step3:Model Selection**"
      ]
    },
    {
      "cell_type": "code",
      "metadata": {
        "id": "1NgVv3bHHfSN"
      },
      "source": [
        "model=Sequential()\n",
        "\n",
        "model.add(LSTM(50,return_sequences=True,input_shape=(x_train.shape[1],1)))\n",
        "model.add(LSTM(50,return_sequences=False))\n",
        "model.add(Dense(25))\n",
        "model.add(Dense(1))\n"
      ],
      "execution_count": null,
      "outputs": []
    },
    {
      "cell_type": "code",
      "metadata": {
        "id": "a6YPUuvwIVXN"
      },
      "source": [
        "model.compile(optimizer='adam',loss='mean_squared_error')"
      ],
      "execution_count": null,
      "outputs": []
    },
    {
      "cell_type": "markdown",
      "metadata": {
        "id": "RERKtf5vItfn"
      },
      "source": [
        "## **Step4: Training Network**"
      ]
    },
    {
      "cell_type": "code",
      "metadata": {
        "id": "eA-SW8iWIxGm",
        "colab": {
          "base_uri": "https://localhost:8080/"
        },
        "outputId": "434c972a-3e60-4300-91b1-737ef978efc8"
      },
      "source": [
        "model.fit(x_train,y_train,batch_size=1,epochs=10 )"
      ],
      "execution_count": null,
      "outputs": [
        {
          "output_type": "stream",
          "name": "stdout",
          "text": [
            "Epoch 1/10\n",
            "1432/1432 [==============================] - 47s 30ms/step - loss: 4.3093e-04\n",
            "Epoch 2/10\n",
            "1432/1432 [==============================] - 41s 29ms/step - loss: 1.4763e-04\n",
            "Epoch 3/10\n",
            "1432/1432 [==============================] - 44s 31ms/step - loss: 1.3381e-04\n",
            "Epoch 4/10\n",
            "1432/1432 [==============================] - 42s 29ms/step - loss: 9.6316e-05\n",
            "Epoch 5/10\n",
            "1432/1432 [==============================] - 41s 29ms/step - loss: 8.8681e-05\n",
            "Epoch 6/10\n",
            "1432/1432 [==============================] - 43s 30ms/step - loss: 6.6327e-05\n",
            "Epoch 7/10\n",
            "1432/1432 [==============================] - 42s 29ms/step - loss: 5.8754e-05\n",
            "Epoch 8/10\n",
            "1432/1432 [==============================] - 44s 30ms/step - loss: 7.4180e-05\n",
            "Epoch 9/10\n",
            "1432/1432 [==============================] - 44s 31ms/step - loss: 5.6939e-05\n",
            "Epoch 10/10\n",
            "1432/1432 [==============================] - 44s 31ms/step - loss: 6.1028e-05\n"
          ]
        },
        {
          "output_type": "execute_result",
          "data": {
            "text/plain": [
              "<keras.callbacks.History at 0x7f894bf62c90>"
            ]
          },
          "metadata": {},
          "execution_count": 21
        }
      ]
    },
    {
      "cell_type": "code",
      "metadata": {
        "id": "v1fBWJQ7I_EH"
      },
      "source": [
        "#creating testing dataset\n",
        "#new array containing values from scaled data set\n",
        "test_data=scaled_data[training_data_len - 60:,:]\n",
        "\n",
        "x_test=[]\n",
        "y_test=dataset[training_data_len:,:]\n",
        "for i in range(60,len(test_data)):\n",
        "  x_test.append(test_data[i-60:i,0])\n",
        "  "
      ],
      "execution_count": null,
      "outputs": []
    },
    {
      "cell_type": "code",
      "metadata": {
        "id": "GLYFIvS2Pzv3"
      },
      "source": [
        "x_test=np.array(x_test)"
      ],
      "execution_count": null,
      "outputs": []
    },
    {
      "cell_type": "code",
      "metadata": {
        "id": "rMEpixPOP_ub"
      },
      "source": [
        "x_test=np.reshape(x_test,(x_test.shape[0],x_test.shape[1],1))"
      ],
      "execution_count": null,
      "outputs": []
    },
    {
      "cell_type": "markdown",
      "metadata": {
        "id": "9goDsrjNQQc2"
      },
      "source": [
        "## **Step5: Predictions**"
      ]
    },
    {
      "cell_type": "code",
      "metadata": {
        "id": "GH7P5CTkQimD"
      },
      "source": [
        "#get models predicted price value\n",
        "predictions=model.predict(x_test)\n",
        "#unscaling the values\n",
        "predictions=scaler.inverse_transform(predictions)"
      ],
      "execution_count": null,
      "outputs": []
    },
    {
      "cell_type": "code",
      "metadata": {
        "id": "bgTL2clcQ_hV",
        "colab": {
          "base_uri": "https://localhost:8080/"
        },
        "outputId": "f131cc3e-098a-4159-8731-dd967c959f91"
      },
      "source": [
        "rmse=np.sqrt(np.mean(((predictions-y_test)**2)))\n",
        "rmse"
      ],
      "execution_count": null,
      "outputs": [
        {
          "output_type": "execute_result",
          "data": {
            "text/plain": [
              "6.205871944154895"
            ]
          },
          "metadata": {},
          "execution_count": 27
        }
      ]
    },
    {
      "cell_type": "code",
      "metadata": {
        "id": "4aXZj_9MWphP",
        "colab": {
          "base_uri": "https://localhost:8080/",
          "height": 918
        },
        "outputId": "3b5d211b-4618-4ac4-cb14-fe506115ebff"
      },
      "source": [
        "train = data[:training_data_len]\n",
        "valid = data[training_data_len:]\n",
        "valid['Predictions']=predictions\n",
        "#visualize the data\n",
        "plt.figure(figsize=(16,8))\n",
        "plt.title('Model')\n",
        "plt.xlabel('Date',fontsize=18)\n",
        "plt.ylabel(\"Close price USD ($)\",fontsize=18)\n",
        "plt.plot(train['Close'])\n",
        "plt.plot(valid[['Close','Predictions']])\n",
        "plt.legend(['Train','Val','Predictions'],loc='Lower right')\n",
        "plt.show()"
      ],
      "execution_count": null,
      "outputs": [
        {
          "output_type": "stream",
          "name": "stderr",
          "text": [
            "/usr/local/lib/python3.7/dist-packages/ipykernel_launcher.py:3: SettingWithCopyWarning: \n",
            "A value is trying to be set on a copy of a slice from a DataFrame.\n",
            "Try using .loc[row_indexer,col_indexer] = value instead\n",
            "\n",
            "See the caveats in the documentation: https://pandas.pydata.org/pandas-docs/stable/user_guide/indexing.html#returning-a-view-versus-a-copy\n",
            "  This is separate from the ipykernel package so we can avoid doing imports until\n",
            "/usr/local/lib/python3.7/dist-packages/ipykernel_launcher.py:11: MatplotlibDeprecationWarning: Unrecognized location 'Lower right'. Falling back on 'best'; valid locations are\n",
            "\tbest\n",
            "\tupper right\n",
            "\tupper left\n",
            "\tlower left\n",
            "\tlower right\n",
            "\tright\n",
            "\tcenter left\n",
            "\tcenter right\n",
            "\tlower center\n",
            "\tupper center\n",
            "\tcenter\n",
            "This will raise an exception in 3.3.\n",
            "  # This is added back by InteractiveShellApp.init_path()\n"
          ]
        },
        {
          "output_type": "display_data",
          "data": {
            "image/png": "[encoded data removed]",
            "text/plain": [
              "<Figure size 1152x576 with 1 Axes>"
            ]
          },
          "metadata": {}
        }
      ]
    },
    {
      "cell_type": "code",
      "metadata": {
        "id": "53kklJRDCNm_",
        "colab": {
          "base_uri": "https://localhost:8080/",
          "height": 368
        },
        "outputId": "d8597828-f768-446f-c1e3-b7f57161ca20"
      },
      "source": [
        "from datetime import datetime\n",
        "import yfinance as yf\n",
        "import pandas_datareader.data as pdr\n",
        "import pandas as pd\n",
        "\n",
        "yf.pdr_override()\n",
        "\n",
        "start = datetime.strptime('2014-01-01', '%Y-%m-%d')\n",
        "end = datetime.strptime('2021-06-01', '%Y-%m-%d')\n",
        "\n",
        "apple_quote = pdr.get_data_yahoo(\"AAPL\", start, end)\n",
        "#create a new dataframe\n",
        "new_df=apple_quote.filter(['Close'])\n",
        "#get the last 60 days closing prices and convert the dataframe to an  array.\n",
        "last_60_days= new_df[-60:].values\n",
        "#scale tha data to be values between 0 and 1\n",
        "last_60_days_scaled=scaler.transform(last_60_days)\n",
        "#create an empty list\n",
        "x_test=[]\n",
        "#Append the past 60 days \n",
        "x_test.append(last_60_days_scaled)\n",
        "#covert the X-test dataset into numpy array\n",
        "x_test=np.array(x_test)\n",
        "#reshape the data\n",
        "x_test=np.reshape(x_test,(x_test.shape[0],x_test.shape[1],1))\n",
        "#get the predicted scale price\n",
        "pred_price=model.predict(x_test)\n",
        "#undo the scaling\n",
        "pred_price=scaler.inverse_transform(pred_price)\n",
        "print(pred_price)"
      ],
      "execution_count": null,
      "outputs": [
        {
          "output_type": "error",
          "ename": "ModuleNotFoundError",
          "evalue": "ignored",
          "traceback": [
            "\u001b[0;31m---------------------------------------------------------------------------\u001b[0m",
            "\u001b[0;31mModuleNotFoundError\u001b[0m                       Traceback (most recent call last)",
            "\u001b[0;32m<ipython-input-1-3e1d30d26463>\u001b[0m in \u001b[0;36m<module>\u001b[0;34m()\u001b[0m\n\u001b[1;32m      1\u001b[0m \u001b[0;32mfrom\u001b[0m \u001b[0mdatetime\u001b[0m \u001b[0;32mimport\u001b[0m \u001b[0mdatetime\u001b[0m\u001b[0;34m\u001b[0m\u001b[0;34m\u001b[0m\u001b[0m\n\u001b[0;32m----> 2\u001b[0;31m \u001b[0;32mimport\u001b[0m \u001b[0myfinance\u001b[0m \u001b[0;32mas\u001b[0m \u001b[0myf\u001b[0m\u001b[0;34m\u001b[0m\u001b[0;34m\u001b[0m\u001b[0m\n\u001b[0m\u001b[1;32m      3\u001b[0m \u001b[0;32mimport\u001b[0m \u001b[0mpandas_datareader\u001b[0m\u001b[0;34m.\u001b[0m\u001b[0mdata\u001b[0m \u001b[0;32mas\u001b[0m \u001b[0mpdr\u001b[0m\u001b[0;34m\u001b[0m\u001b[0;34m\u001b[0m\u001b[0m\n\u001b[1;32m      4\u001b[0m \u001b[0;32mimport\u001b[0m \u001b[0mpandas\u001b[0m \u001b[0;32mas\u001b[0m \u001b[0mpd\u001b[0m\u001b[0;34m\u001b[0m\u001b[0;34m\u001b[0m\u001b[0m\n\u001b[1;32m      5\u001b[0m \u001b[0;34m\u001b[0m\u001b[0m\n",
            "\u001b[0;31mModuleNotFoundError\u001b[0m: No module named 'yfinance'",
            "",
            "\u001b[0;31m---------------------------------------------------------------------------\u001b[0;32m\nNOTE: If your import is failing due to a missing package, you can\nmanually install dependencies using either !pip or !apt.\n\nTo view examples of installing some common dependencies, click the\n\"Open Examples\" button below.\n\u001b[0;31m---------------------------------------------------------------------------\u001b[0m\n"
          ],
          "errorDetails": {
            "actions": [
              {
                "action": "open_url",
                "actionText": "Open Examples",
                "url": "/notebooks/snippets/importing_libraries.ipynb"
              }
            ]
          }
        }
      ]
    },
    {
      "cell_type": "markdown",
      "metadata": {
        "id": "keI-Lk_OeWdm"
      },
      "source": [
        "# New Section"
      ]
    },
    {
      "cell_type": "code",
      "metadata": {
        "id": "nubHpnk9LI-5"
      },
      "source": [],
      "execution_count": null,
      "outputs": []
    },
    {
      "cell_type": "code",
      "metadata": {
        "id": "0RHL2Q3wMU_W"
      },
      "source": [],
      "execution_count": null,
      "outputs": []
    }
  ]
}