{
  "nbformat": 4,
  "nbformat_minor": 0,
  "metadata": {
    "colab": {
      "provenance": [],
      "collapsed_sections": []
    },
    "kernelspec": {
      "name": "python3",
      "display_name": "Python 3"
    }
  },
  "cells": [
    {
      "cell_type": "code",
      "metadata": {
        "colab": {
          "base_uri": "https://localhost:8080/"
        },
        "id": "uzuc7B4yW8da",
        "outputId": "fa100f5e-c798-4bf9-9659-6d64624b3f1e"
      },
      "source": [
        "!pip install yfinance"
      ],
      "execution_count": null,
      "outputs": [
        {
          "output_type": "stream",
          "text": [
            "Collecting yfinance\n",
            "  Downloading yfinance-0.1.63.tar.gz (26 kB)\n",
            "Requirement already satisfied: pandas>=0.24 in /usr/local/lib/python3.7/dist-packages (from yfinance) (1.1.5)\n",
            "Requirement already satisfied: numpy>=1.15 in /usr/local/lib/python3.7/dist-packages (from yfinance) (1.19.5)\n",
            "Requirement already satisfied: requests>=2.20 in /usr/local/lib/python3.7/dist-packages (from yfinance) (2.23.0)\n",
            "Requirement already satisfied: multitasking>=0.0.7 in /usr/local/lib/python3.7/dist-packages (from yfinance) (0.0.9)\n",
            "Collecting lxml>=4.5.1\n",
            "  Downloading lxml-4.6.3-cp37-cp37m-manylinux2014_x86_64.whl (6.3 MB)\n",
            "\u001b[K     |████████████████████████████████| 6.3 MB 7.9 MB/s \n",
            "\u001b[?25hRequirement already satisfied: python-dateutil>=2.7.3 in /usr/local/lib/python3.7/dist-packages (from pandas>=0.24->yfinance) (2.8.1)\n",
            "Requirement already satisfied: pytz>=2017.2 in /usr/local/lib/python3.7/dist-packages (from pandas>=0.24->yfinance) (2018.9)\n",
            "Requirement already satisfied: six>=1.5 in /usr/local/lib/python3.7/dist-packages (from python-dateutil>=2.7.3->pandas>=0.24->yfinance) (1.15.0)\n",
            "Requirement already satisfied: idna<3,>=2.5 in /usr/local/lib/python3.7/dist-packages (from requests>=2.20->yfinance) (2.10)\n",
            "Requirement already satisfied: certifi>=2017.4.17 in /usr/local/lib/python3.7/dist-packages (from requests>=2.20->yfinance) (2021.5.30)\n",
            "Requirement already satisfied: chardet<4,>=3.0.2 in /usr/local/lib/python3.7/dist-packages (from requests>=2.20->yfinance) (3.0.4)\n",
            "Requirement already satisfied: urllib3!=1.25.0,!=1.25.1,<1.26,>=1.21.1 in /usr/local/lib/python3.7/dist-packages (from requests>=2.20->yfinance) (1.24.3)\n",
            "Building wheels for collected packages: yfinance\n",
            "  Building wheel for yfinance (setup.py) ... \u001b[?25l\u001b[?25hdone\n",
            "  Created wheel for yfinance: filename=yfinance-0.1.63-py2.py3-none-any.whl size=23919 sha256=d6e47385b703c4527166627b10e3fa0d240f75da753f9ad05822d4aa91e517f4\n",
            "  Stored in directory: /root/.cache/pip/wheels/fe/87/8b/7ec24486e001d3926537f5f7801f57a74d181be25b11157983\n",
            "Successfully built yfinance\n",
            "Installing collected packages: lxml, yfinance\n",
            "  Attempting uninstall: lxml\n",
            "    Found existing installation: lxml 4.2.6\n",
            "    Uninstalling lxml-4.2.6:\n",
            "      Successfully uninstalled lxml-4.2.6\n",
            "Successfully installed lxml-4.6.3 yfinance-0.1.63\n"
          ],
          "name": "stdout"
        }
      ]
    },
    {
      "cell_type": "code",
      "metadata": {
        "id": "Y8VoxIW04-8n"
      },
      "source": [
        "from pandas_datareader import data\n",
        "import pandas as pd\n",
        "from sklearn import metrics"
      ],
      "execution_count": null,
      "outputs": []
    },
    {
      "cell_type": "code",
      "metadata": {
        "id": "h8fzVbDp5KpJ",
        "colab": {
          "base_uri": "https://localhost:8080/",
          "height": 472
        },
        "outputId": "aa3fbc85-dc09-40a7-a29e-c0ddee0bd23b"
      },
      "source": [
        "#dataset= data.DataReader('AAPL', 'yahoo', start='2012/01/01', end='2021/06/01')\n",
        "from datetime import datetime\n",
        "import yfinance as yf\n",
        "import pandas_datareader.data as pdr\n",
        "import pandas as pd\n",
        "\n",
        "yf.pdr_override()\n",
        "\n",
        "start = datetime.strptime('2014-01-01', '%Y-%m-%d')\n",
        "end = datetime.strptime('2021-06-01', '%Y-%m-%d')\n",
        "\n",
        "dataset = pdr.get_data_yahoo(\"AAPL\", start, end)\n",
        "dataset"
      ],
      "execution_count": null,
      "outputs": [
        {
          "output_type": "stream",
          "text": [
            "\r[*********************100%***********************]  1 of 1 completed\n"
          ],
          "name": "stdout"
        },
        {
          "output_type": "execute_result",
          "data": {
            "text/html": [
              "<div>\n",
              "<style scoped>\n",
              "    .dataframe tbody tr th:only-of-type {\n",
              "        vertical-align: middle;\n",
              "    }\n",
              "\n",
              "    .dataframe tbody tr th {\n",
              "        vertical-align: top;\n",
              "    }\n",
              "\n",
              "    .dataframe thead th {\n",
              "        text-align: right;\n",
              "    }\n",
              "</style>\n",
              "<table border=\"1\" class=\"dataframe\">\n",
              "  <thead>\n",
              "    <tr style=\"text-align: right;\">\n",
              "      <th></th>\n",
              "      <th>Open</th>\n",
              "      <th>High</th>\n",
              "      <th>Low</th>\n",
              "      <th>Close</th>\n",
              "      <th>Adj Close</th>\n",
              "      <th>Volume</th>\n",
              "    </tr>\n",
              "    <tr>\n",
              "      <th>Date</th>\n",
              "      <th></th>\n",
              "      <th></th>\n",
              "      <th></th>\n",
              "      <th></th>\n",
              "      <th></th>\n",
              "      <th></th>\n",
              "    </tr>\n",
              "  </thead>\n",
              "  <tbody>\n",
              "    <tr>\n",
              "      <th>2014-01-02</th>\n",
              "      <td>19.845715</td>\n",
              "      <td>19.893929</td>\n",
              "      <td>19.715000</td>\n",
              "      <td>19.754642</td>\n",
              "      <td>17.568451</td>\n",
              "      <td>234684800</td>\n",
              "    </tr>\n",
              "    <tr>\n",
              "      <th>2014-01-03</th>\n",
              "      <td>19.745001</td>\n",
              "      <td>19.775000</td>\n",
              "      <td>19.301071</td>\n",
              "      <td>19.320715</td>\n",
              "      <td>17.182550</td>\n",
              "      <td>392467600</td>\n",
              "    </tr>\n",
              "    <tr>\n",
              "      <th>2014-01-06</th>\n",
              "      <td>19.194643</td>\n",
              "      <td>19.528570</td>\n",
              "      <td>19.057142</td>\n",
              "      <td>19.426071</td>\n",
              "      <td>17.276245</td>\n",
              "      <td>412610800</td>\n",
              "    </tr>\n",
              "    <tr>\n",
              "      <th>2014-01-07</th>\n",
              "      <td>19.440001</td>\n",
              "      <td>19.498571</td>\n",
              "      <td>19.211430</td>\n",
              "      <td>19.287144</td>\n",
              "      <td>17.152693</td>\n",
              "      <td>317209200</td>\n",
              "    </tr>\n",
              "    <tr>\n",
              "      <th>2014-01-08</th>\n",
              "      <td>19.243214</td>\n",
              "      <td>19.484285</td>\n",
              "      <td>19.238930</td>\n",
              "      <td>19.409286</td>\n",
              "      <td>17.261324</td>\n",
              "      <td>258529600</td>\n",
              "    </tr>\n",
              "    <tr>\n",
              "      <th>...</th>\n",
              "      <td>...</td>\n",
              "      <td>...</td>\n",
              "      <td>...</td>\n",
              "      <td>...</td>\n",
              "      <td>...</td>\n",
              "      <td>...</td>\n",
              "    </tr>\n",
              "    <tr>\n",
              "      <th>2021-05-24</th>\n",
              "      <td>126.010002</td>\n",
              "      <td>127.940002</td>\n",
              "      <td>125.940002</td>\n",
              "      <td>127.099998</td>\n",
              "      <td>127.099998</td>\n",
              "      <td>63092900</td>\n",
              "    </tr>\n",
              "    <tr>\n",
              "      <th>2021-05-25</th>\n",
              "      <td>127.820000</td>\n",
              "      <td>128.320007</td>\n",
              "      <td>126.320000</td>\n",
              "      <td>126.900002</td>\n",
              "      <td>126.900002</td>\n",
              "      <td>72009500</td>\n",
              "    </tr>\n",
              "    <tr>\n",
              "      <th>2021-05-26</th>\n",
              "      <td>126.959999</td>\n",
              "      <td>127.389999</td>\n",
              "      <td>126.419998</td>\n",
              "      <td>126.849998</td>\n",
              "      <td>126.849998</td>\n",
              "      <td>56575900</td>\n",
              "    </tr>\n",
              "    <tr>\n",
              "      <th>2021-05-27</th>\n",
              "      <td>126.440002</td>\n",
              "      <td>127.639999</td>\n",
              "      <td>125.080002</td>\n",
              "      <td>125.279999</td>\n",
              "      <td>125.279999</td>\n",
              "      <td>94625600</td>\n",
              "    </tr>\n",
              "    <tr>\n",
              "      <th>2021-05-28</th>\n",
              "      <td>125.570000</td>\n",
              "      <td>125.800003</td>\n",
              "      <td>124.550003</td>\n",
              "      <td>124.610001</td>\n",
              "      <td>124.610001</td>\n",
              "      <td>71311100</td>\n",
              "    </tr>\n",
              "  </tbody>\n",
              "</table>\n",
              "<p>1865 rows × 6 columns</p>\n",
              "</div>"
            ],
            "text/plain": [
              "                  Open        High  ...   Adj Close     Volume\n",
              "Date                                ...                       \n",
              "2014-01-02   19.845715   19.893929  ...   17.568451  234684800\n",
              "2014-01-03   19.745001   19.775000  ...   17.182550  392467600\n",
              "2014-01-06   19.194643   19.528570  ...   17.276245  412610800\n",
              "2014-01-07   19.440001   19.498571  ...   17.152693  317209200\n",
              "2014-01-08   19.243214   19.484285  ...   17.261324  258529600\n",
              "...                ...         ...  ...         ...        ...\n",
              "2021-05-24  126.010002  127.940002  ...  127.099998   63092900\n",
              "2021-05-25  127.820000  128.320007  ...  126.900002   72009500\n",
              "2021-05-26  126.959999  127.389999  ...  126.849998   56575900\n",
              "2021-05-27  126.440002  127.639999  ...  125.279999   94625600\n",
              "2021-05-28  125.570000  125.800003  ...  124.610001   71311100\n",
              "\n",
              "[1865 rows x 6 columns]"
            ]
          },
          "metadata": {
            "tags": []
          },
          "execution_count": 3
        }
      ]
    },
    {
      "cell_type": "code",
      "metadata": {
        "id": "c3lXpCBuAHZx",
        "colab": {
          "base_uri": "https://localhost:8080/"
        },
        "outputId": "42adee30-39e5-4538-edc0-cca217ff7900"
      },
      "source": [
        "\n",
        "\n",
        "dataset.head"
      ],
      "execution_count": null,
      "outputs": [
        {
          "output_type": "execute_result",
          "data": {
            "text/plain": [
              "<bound method NDFrame.head of                   Open        High  ...   Adj Close     Volume\n",
              "Date                                ...                       \n",
              "2014-01-02   19.845715   19.893929  ...   17.568451  234684800\n",
              "2014-01-03   19.745001   19.775000  ...   17.182550  392467600\n",
              "2014-01-06   19.194643   19.528570  ...   17.276245  412610800\n",
              "2014-01-07   19.440001   19.498571  ...   17.152693  317209200\n",
              "2014-01-08   19.243214   19.484285  ...   17.261324  258529600\n",
              "...                ...         ...  ...         ...        ...\n",
              "2021-05-24  126.010002  127.940002  ...  127.099998   63092900\n",
              "2021-05-25  127.820000  128.320007  ...  126.900002   72009500\n",
              "2021-05-26  126.959999  127.389999  ...  126.849998   56575900\n",
              "2021-05-27  126.440002  127.639999  ...  125.279999   94625600\n",
              "2021-05-28  125.570000  125.800003  ...  124.610001   71311100\n",
              "\n",
              "[1865 rows x 6 columns]>"
            ]
          },
          "metadata": {
            "tags": []
          },
          "execution_count": 4
        }
      ]
    },
    {
      "cell_type": "code",
      "metadata": {
        "id": "9y_XHctXAKcI",
        "colab": {
          "base_uri": "https://localhost:8080/"
        },
        "outputId": "2a6b3745-e1e8-4187-e0e5-c19498745af0"
      },
      "source": [
        "\n",
        "dataset.shape"
      ],
      "execution_count": null,
      "outputs": [
        {
          "output_type": "execute_result",
          "data": {
            "text/plain": [
              "(1865, 6)"
            ]
          },
          "metadata": {
            "tags": []
          },
          "execution_count": 5
        }
      ]
    },
    {
      "cell_type": "code",
      "metadata": {
        "id": "wE9Y3V59AQIb"
      },
      "source": [
        "\n",
        "dataset.drop('Adj Close' ,axis = 1, inplace = True)"
      ],
      "execution_count": null,
      "outputs": []
    },
    {
      "cell_type": "code",
      "metadata": {
        "id": "k_SpIg2HAWaT",
        "colab": {
          "base_uri": "https://localhost:8080/",
          "height": 237
        },
        "outputId": "9196623f-61d4-456e-c91a-7603c360651b"
      },
      "source": [
        "\n",
        "dataset.head()"
      ],
      "execution_count": null,
      "outputs": [
        {
          "output_type": "execute_result",
          "data": {
            "text/html": [
              "<div>\n",
              "<style scoped>\n",
              "    .dataframe tbody tr th:only-of-type {\n",
              "        vertical-align: middle;\n",
              "    }\n",
              "\n",
              "    .dataframe tbody tr th {\n",
              "        vertical-align: top;\n",
              "    }\n",
              "\n",
              "    .dataframe thead th {\n",
              "        text-align: right;\n",
              "    }\n",
              "</style>\n",
              "<table border=\"1\" class=\"dataframe\">\n",
              "  <thead>\n",
              "    <tr style=\"text-align: right;\">\n",
              "      <th></th>\n",
              "      <th>Open</th>\n",
              "      <th>High</th>\n",
              "      <th>Low</th>\n",
              "      <th>Close</th>\n",
              "      <th>Volume</th>\n",
              "    </tr>\n",
              "    <tr>\n",
              "      <th>Date</th>\n",
              "      <th></th>\n",
              "      <th></th>\n",
              "      <th></th>\n",
              "      <th></th>\n",
              "      <th></th>\n",
              "    </tr>\n",
              "  </thead>\n",
              "  <tbody>\n",
              "    <tr>\n",
              "      <th>2014-01-02</th>\n",
              "      <td>19.845715</td>\n",
              "      <td>19.893929</td>\n",
              "      <td>19.715000</td>\n",
              "      <td>19.754642</td>\n",
              "      <td>234684800</td>\n",
              "    </tr>\n",
              "    <tr>\n",
              "      <th>2014-01-03</th>\n",
              "      <td>19.745001</td>\n",
              "      <td>19.775000</td>\n",
              "      <td>19.301071</td>\n",
              "      <td>19.320715</td>\n",
              "      <td>392467600</td>\n",
              "    </tr>\n",
              "    <tr>\n",
              "      <th>2014-01-06</th>\n",
              "      <td>19.194643</td>\n",
              "      <td>19.528570</td>\n",
              "      <td>19.057142</td>\n",
              "      <td>19.426071</td>\n",
              "      <td>412610800</td>\n",
              "    </tr>\n",
              "    <tr>\n",
              "      <th>2014-01-07</th>\n",
              "      <td>19.440001</td>\n",
              "      <td>19.498571</td>\n",
              "      <td>19.211430</td>\n",
              "      <td>19.287144</td>\n",
              "      <td>317209200</td>\n",
              "    </tr>\n",
              "    <tr>\n",
              "      <th>2014-01-08</th>\n",
              "      <td>19.243214</td>\n",
              "      <td>19.484285</td>\n",
              "      <td>19.238930</td>\n",
              "      <td>19.409286</td>\n",
              "      <td>258529600</td>\n",
              "    </tr>\n",
              "  </tbody>\n",
              "</table>\n",
              "</div>"
            ],
            "text/plain": [
              "                 Open       High        Low      Close     Volume\n",
              "Date                                                             \n",
              "2014-01-02  19.845715  19.893929  19.715000  19.754642  234684800\n",
              "2014-01-03  19.745001  19.775000  19.301071  19.320715  392467600\n",
              "2014-01-06  19.194643  19.528570  19.057142  19.426071  412610800\n",
              "2014-01-07  19.440001  19.498571  19.211430  19.287144  317209200\n",
              "2014-01-08  19.243214  19.484285  19.238930  19.409286  258529600"
            ]
          },
          "metadata": {
            "tags": []
          },
          "execution_count": 7
        }
      ]
    },
    {
      "cell_type": "code",
      "metadata": {
        "id": "ya3cdeEDAYSL",
        "colab": {
          "base_uri": "https://localhost:8080/"
        },
        "outputId": "3648a4dc-a3cd-49fb-edbd-661e224a4bcd"
      },
      "source": [
        "\n",
        "\n",
        "\n",
        "dataset.isnull().sum() "
      ],
      "execution_count": null,
      "outputs": [
        {
          "output_type": "execute_result",
          "data": {
            "text/plain": [
              "Open      0\n",
              "High      0\n",
              "Low       0\n",
              "Close     0\n",
              "Volume    0\n",
              "dtype: int64"
            ]
          },
          "metadata": {
            "tags": []
          },
          "execution_count": 8
        }
      ]
    },
    {
      "cell_type": "code",
      "metadata": {
        "id": "zmscfw8HBaIF",
        "colab": {
          "base_uri": "https://localhost:8080/"
        },
        "outputId": "4a474458-0b32-400d-ddb6-3cf7f01999c6"
      },
      "source": [
        "dataset.isna().any()"
      ],
      "execution_count": null,
      "outputs": [
        {
          "output_type": "execute_result",
          "data": {
            "text/plain": [
              "Open      False\n",
              "High      False\n",
              "Low       False\n",
              "Close     False\n",
              "Volume    False\n",
              "dtype: bool"
            ]
          },
          "metadata": {
            "tags": []
          },
          "execution_count": 9
        }
      ]
    },
    {
      "cell_type": "code",
      "metadata": {
        "id": "dfI4s38iBcS5",
        "colab": {
          "base_uri": "https://localhost:8080/"
        },
        "outputId": "ce39a19b-6773-455e-cde8-e312c8d17607"
      },
      "source": [
        "dataset.info()"
      ],
      "execution_count": null,
      "outputs": [
        {
          "output_type": "stream",
          "text": [
            "<class 'pandas.core.frame.DataFrame'>\n",
            "DatetimeIndex: 1865 entries, 2014-01-02 to 2021-05-28\n",
            "Data columns (total 5 columns):\n",
            " #   Column  Non-Null Count  Dtype  \n",
            "---  ------  --------------  -----  \n",
            " 0   Open    1865 non-null   float64\n",
            " 1   High    1865 non-null   float64\n",
            " 2   Low     1865 non-null   float64\n",
            " 3   Close   1865 non-null   float64\n",
            " 4   Volume  1865 non-null   int64  \n",
            "dtypes: float64(4), int64(1)\n",
            "memory usage: 87.4 KB\n"
          ],
          "name": "stdout"
        }
      ]
    },
    {
      "cell_type": "code",
      "metadata": {
        "id": "sx8iGh8eBd5x",
        "colab": {
          "base_uri": "https://localhost:8080/",
          "height": 300
        },
        "outputId": "2a1639a0-2a8d-4953-9a13-ff2e8af71daa"
      },
      "source": [
        "dataset.describe()"
      ],
      "execution_count": null,
      "outputs": [
        {
          "output_type": "execute_result",
          "data": {
            "text/html": [
              "<div>\n",
              "<style scoped>\n",
              "    .dataframe tbody tr th:only-of-type {\n",
              "        vertical-align: middle;\n",
              "    }\n",
              "\n",
              "    .dataframe tbody tr th {\n",
              "        vertical-align: top;\n",
              "    }\n",
              "\n",
              "    .dataframe thead th {\n",
              "        text-align: right;\n",
              "    }\n",
              "</style>\n",
              "<table border=\"1\" class=\"dataframe\">\n",
              "  <thead>\n",
              "    <tr style=\"text-align: right;\">\n",
              "      <th></th>\n",
              "      <th>Open</th>\n",
              "      <th>High</th>\n",
              "      <th>Low</th>\n",
              "      <th>Close</th>\n",
              "      <th>Volume</th>\n",
              "    </tr>\n",
              "  </thead>\n",
              "  <tbody>\n",
              "    <tr>\n",
              "      <th>count</th>\n",
              "      <td>1865.000000</td>\n",
              "      <td>1865.000000</td>\n",
              "      <td>1865.000000</td>\n",
              "      <td>1865.000000</td>\n",
              "      <td>1.865000e+03</td>\n",
              "    </tr>\n",
              "    <tr>\n",
              "      <th>mean</th>\n",
              "      <td>49.126930</td>\n",
              "      <td>49.645738</td>\n",
              "      <td>48.604722</td>\n",
              "      <td>49.143138</td>\n",
              "      <td>1.579069e+08</td>\n",
              "    </tr>\n",
              "    <tr>\n",
              "      <th>std</th>\n",
              "      <td>30.897082</td>\n",
              "      <td>31.302149</td>\n",
              "      <td>30.424195</td>\n",
              "      <td>30.870000</td>\n",
              "      <td>8.685665e+07</td>\n",
              "    </tr>\n",
              "    <tr>\n",
              "      <th>min</th>\n",
              "      <td>17.684999</td>\n",
              "      <td>17.911785</td>\n",
              "      <td>17.626785</td>\n",
              "      <td>17.849285</td>\n",
              "      <td>4.544800e+07</td>\n",
              "    </tr>\n",
              "    <tr>\n",
              "      <th>25%</th>\n",
              "      <td>27.900000</td>\n",
              "      <td>28.117500</td>\n",
              "      <td>27.552500</td>\n",
              "      <td>27.932501</td>\n",
              "      <td>9.960040e+07</td>\n",
              "    </tr>\n",
              "    <tr>\n",
              "      <th>50%</th>\n",
              "      <td>38.959999</td>\n",
              "      <td>39.270000</td>\n",
              "      <td>38.580002</td>\n",
              "      <td>38.959999</td>\n",
              "      <td>1.342728e+08</td>\n",
              "    </tr>\n",
              "    <tr>\n",
              "      <th>75%</th>\n",
              "      <td>54.607498</td>\n",
              "      <td>55.240002</td>\n",
              "      <td>54.154999</td>\n",
              "      <td>54.582500</td>\n",
              "      <td>1.903624e+08</td>\n",
              "    </tr>\n",
              "    <tr>\n",
              "      <th>max</th>\n",
              "      <td>143.600006</td>\n",
              "      <td>145.089996</td>\n",
              "      <td>141.369995</td>\n",
              "      <td>143.160004</td>\n",
              "      <td>1.065523e+09</td>\n",
              "    </tr>\n",
              "  </tbody>\n",
              "</table>\n",
              "</div>"
            ],
            "text/plain": [
              "              Open         High          Low        Close        Volume\n",
              "count  1865.000000  1865.000000  1865.000000  1865.000000  1.865000e+03\n",
              "mean     49.126930    49.645738    48.604722    49.143138  1.579069e+08\n",
              "std      30.897082    31.302149    30.424195    30.870000  8.685665e+07\n",
              "min      17.684999    17.911785    17.626785    17.849285  4.544800e+07\n",
              "25%      27.900000    28.117500    27.552500    27.932501  9.960040e+07\n",
              "50%      38.959999    39.270000    38.580002    38.959999  1.342728e+08\n",
              "75%      54.607498    55.240002    54.154999    54.582500  1.903624e+08\n",
              "max     143.600006   145.089996   141.369995   143.160004  1.065523e+09"
            ]
          },
          "metadata": {
            "tags": []
          },
          "execution_count": 11
        }
      ]
    },
    {
      "cell_type": "code",
      "metadata": {
        "id": "NDLJSHGHBfxj",
        "colab": {
          "base_uri": "https://localhost:8080/"
        },
        "outputId": "884a8c74-b5c1-489f-87e7-bfc9580158da"
      },
      "source": [
        "print(len(dataset))"
      ],
      "execution_count": null,
      "outputs": [
        {
          "output_type": "stream",
          "text": [
            "1865\n"
          ],
          "name": "stdout"
        }
      ]
    },
    {
      "cell_type": "code",
      "metadata": {
        "id": "Jy4ETBwvBhdR",
        "colab": {
          "base_uri": "https://localhost:8080/",
          "height": 385
        },
        "outputId": "7cc81796-d851-41a2-92a1-dea474346b76"
      },
      "source": [
        "dataset['Open'].plot(figsize=(16,6))"
      ],
      "execution_count": null,
      "outputs": [
        {
          "output_type": "execute_result",
          "data": {
            "text/plain": [
              "<matplotlib.axes._subplots.AxesSubplot at 0x7f4ce5f88dd0>"
            ]
          },
          "metadata": {
            "tags": []
          },
          "execution_count": 13
        },
        {
          "output_type": "display_data",
          "data": {
            "image/png": "[encoded data removed]",
            "text/plain": [
              "<Figure size 1152x432 with 1 Axes>"
            ]
          },
          "metadata": {
            "tags": [],
            "needs_background": "light"
          }
        }
      ]
    },
    {
      "cell_type": "code",
      "metadata": {
        "id": "KA6UXhsrBlRZ",
        "colab": {
          "base_uri": "https://localhost:8080/"
        },
        "outputId": "5a36b73f-b188-4c6c-dfee-e7093810590d"
      },
      "source": [
        "X  = dataset[['Open','High','Low','Volume']]\n",
        "y = dataset['Close']\n",
        "print(X)"
      ],
      "execution_count": null,
      "outputs": [
        {
          "output_type": "stream",
          "text": [
            "                  Open        High         Low     Volume\n",
            "Date                                                     \n",
            "2014-01-02   19.845715   19.893929   19.715000  234684800\n",
            "2014-01-03   19.745001   19.775000   19.301071  392467600\n",
            "2014-01-06   19.194643   19.528570   19.057142  412610800\n",
            "2014-01-07   19.440001   19.498571   19.211430  317209200\n",
            "2014-01-08   19.243214   19.484285   19.238930  258529600\n",
            "...                ...         ...         ...        ...\n",
            "2021-05-24  126.010002  127.940002  125.940002   63092900\n",
            "2021-05-25  127.820000  128.320007  126.320000   72009500\n",
            "2021-05-26  126.959999  127.389999  126.419998   56575900\n",
            "2021-05-27  126.440002  127.639999  125.080002   94625600\n",
            "2021-05-28  125.570000  125.800003  124.550003   71311100\n",
            "\n",
            "[1865 rows x 4 columns]\n"
          ],
          "name": "stdout"
        }
      ]
    },
    {
      "cell_type": "code",
      "metadata": {
        "id": "CeKOUFVvBmAa"
      },
      "source": [
        "from sklearn.model_selection import train_test_split\n",
        "X_train , X_test , y_train , y_test = train_test_split(X ,y , random_state = 0)\n"
      ],
      "execution_count": null,
      "outputs": []
    },
    {
      "cell_type": "code",
      "metadata": {
        "id": "GJ_7CSKDBx4E",
        "colab": {
          "base_uri": "https://localhost:8080/"
        },
        "outputId": "22923c46-39b0-473c-ed4e-71c1253a1a2b"
      },
      "source": [
        "X_train.shape\n",
        "print(X_train)"
      ],
      "execution_count": null,
      "outputs": [
        {
          "output_type": "stream",
          "text": [
            "                 Open       High        Low     Volume\n",
            "Date                                                  \n",
            "2020-06-03  81.165001  81.550003  80.574997  104491200\n",
            "2015-11-09  30.240000  30.452499  30.012501  135485600\n",
            "2015-12-14  28.045000  28.170000  27.447500  257274800\n",
            "2014-04-01  19.205713  19.352501  19.170357  200760000\n",
            "2020-05-18  78.292503  79.125000  77.580002  135178400\n",
            "...               ...        ...        ...        ...\n",
            "2017-04-27  35.980000  36.040001  35.827499   56985200\n",
            "2018-10-30  52.787498  53.794998  52.317501  146640000\n",
            "2020-07-28  94.367500  94.550003  93.247498  103625600\n",
            "2016-03-23  26.620001  26.767500  26.475000  102814000\n",
            "2016-09-20  28.262501  28.530001  28.127501  138057200\n",
            "\n",
            "[1398 rows x 4 columns]\n"
          ],
          "name": "stdout"
        }
      ]
    },
    {
      "cell_type": "code",
      "metadata": {
        "id": "B95-S4wgB0EM",
        "colab": {
          "base_uri": "https://localhost:8080/"
        },
        "outputId": "bb3a5c23-7008-4032-8761-169d62523233"
      },
      "source": [
        "X_test.shape\n",
        "print(X_test)"
      ],
      "execution_count": null,
      "outputs": [
        {
          "output_type": "stream",
          "text": [
            "                 Open       High        Low     Volume\n",
            "Date                                                  \n",
            "2017-10-20  39.152500  39.437500  38.990002   95896400\n",
            "2015-01-06  26.635000  26.857500  26.157499  263188400\n",
            "2018-03-13  45.647499  45.875000  44.810001  126774000\n",
            "2014-05-06  21.492857  21.586071  21.228930  374564400\n",
            "2019-02-06  43.662498  43.892502  43.212502  112958400\n",
            "...               ...        ...        ...        ...\n",
            "2019-05-07  51.470001  51.855000  50.207500  155054800\n",
            "2015-11-30  29.497499  29.852501  29.437500  156721200\n",
            "2014-02-04  18.066071  18.195000  17.955713  376681200\n",
            "2018-05-07  46.294998  46.917500  46.187500  169805600\n",
            "2014-03-10  18.870001  19.047501  18.869286  178584000\n",
            "\n",
            "[467 rows x 4 columns]\n"
          ],
          "name": "stdout"
        }
      ]
    },
    {
      "cell_type": "code",
      "metadata": {
        "id": "_5qcuB1iOgIe"
      },
      "source": [
        "from sklearn.linear_model import LinearRegression\n",
        "from sklearn.metrics import confusion_matrix, accuracy_score\n",
        "regressor = LinearRegression()"
      ],
      "execution_count": null,
      "outputs": []
    },
    {
      "cell_type": "code",
      "metadata": {
        "id": "cbjOR6aIOh0A",
        "colab": {
          "base_uri": "https://localhost:8080/"
        },
        "outputId": "14abeb58-a05d-4e5c-9dba-180873eb8407"
      },
      "source": [
        "regressor.fit(X_train,y_train)"
      ],
      "execution_count": null,
      "outputs": [
        {
          "output_type": "execute_result",
          "data": {
            "text/plain": [
              "LinearRegression(copy_X=True, fit_intercept=True, n_jobs=None, normalize=False)"
            ]
          },
          "metadata": {
            "tags": []
          },
          "execution_count": 19
        }
      ]
    },
    {
      "cell_type": "code",
      "metadata": {
        "id": "o_tZc_bQOjuU",
        "colab": {
          "base_uri": "https://localhost:8080/"
        },
        "outputId": "aadeaf69-f37f-4c7e-bc21-86ae28dcf941"
      },
      "source": [
        "print(regressor.coef_)"
      ],
      "execution_count": null,
      "outputs": [
        {
          "output_type": "stream",
          "text": [
            "[-5.52257957e-01  7.55830374e-01  7.96928811e-01 -1.80392146e-10]\n"
          ],
          "name": "stdout"
        }
      ]
    },
    {
      "cell_type": "code",
      "metadata": {
        "id": "06iH4nKzOlbd",
        "colab": {
          "base_uri": "https://localhost:8080/"
        },
        "outputId": "6b82d6dc-f1ef-49c9-a88e-e29bf9d4716b"
      },
      "source": [
        "print(regressor.intercept_)"
      ],
      "execution_count": null,
      "outputs": [
        {
          "output_type": "stream",
          "text": [
            "0.0326589187517925\n"
          ],
          "name": "stdout"
        }
      ]
    },
    {
      "cell_type": "code",
      "metadata": {
        "id": "TXnw9j41Omzl"
      },
      "source": [
        "predicted=regressor.predict(X_test)"
      ],
      "execution_count": null,
      "outputs": []
    },
    {
      "cell_type": "code",
      "metadata": {
        "id": "0406Y5jmOoQE",
        "colab": {
          "base_uri": "https://localhost:8080/"
        },
        "outputId": "331c5938-baea-4372-d401-1efc393778ce"
      },
      "source": [
        "print(X_test)"
      ],
      "execution_count": null,
      "outputs": [
        {
          "output_type": "stream",
          "text": [
            "                 Open       High        Low     Volume\n",
            "Date                                                  \n",
            "2017-10-20  39.152500  39.437500  38.990002   95896400\n",
            "2015-01-06  26.635000  26.857500  26.157499  263188400\n",
            "2018-03-13  45.647499  45.875000  44.810001  126774000\n",
            "2014-05-06  21.492857  21.586071  21.228930  374564400\n",
            "2019-02-06  43.662498  43.892502  43.212502  112958400\n",
            "...               ...        ...        ...        ...\n",
            "2019-05-07  51.470001  51.855000  50.207500  155054800\n",
            "2015-11-30  29.497499  29.852501  29.437500  156721200\n",
            "2014-02-04  18.066071  18.195000  17.955713  376681200\n",
            "2018-05-07  46.294998  46.917500  46.187500  169805600\n",
            "2014-03-10  18.870001  19.047501  18.869286  178584000\n",
            "\n",
            "[467 rows x 4 columns]\n"
          ],
          "name": "stdout"
        }
      ]
    },
    {
      "cell_type": "code",
      "metadata": {
        "id": "cRqXPU4xOp_T",
        "colab": {
          "base_uri": "https://localhost:8080/"
        },
        "outputId": "449bb7a4-9f38-49af-9e7f-ba796c956ef3"
      },
      "source": [
        "predicted.shape"
      ],
      "execution_count": null,
      "outputs": [
        {
          "output_type": "execute_result",
          "data": {
            "text/plain": [
              "(467,)"
            ]
          },
          "metadata": {
            "tags": []
          },
          "execution_count": 24
        }
      ]
    },
    {
      "cell_type": "code",
      "metadata": {
        "id": "PhvZY99EOrpc"
      },
      "source": [
        "dframe=pd.DataFrame(y_test,predicted)"
      ],
      "execution_count": null,
      "outputs": []
    },
    {
      "cell_type": "code",
      "metadata": {
        "id": "RfefXlvSOtNe"
      },
      "source": [
        "dfr=pd.DataFrame({'Actual':y_test,'Predicted':predicted})"
      ],
      "execution_count": null,
      "outputs": []
    },
    {
      "cell_type": "code",
      "metadata": {
        "id": "fOzu-IDaOu4V",
        "colab": {
          "base_uri": "https://localhost:8080/"
        },
        "outputId": "8eddb7c3-a0f2-416f-a042-7f52995763c9"
      },
      "source": [
        "print(dfr)"
      ],
      "execution_count": null,
      "outputs": [
        {
          "output_type": "stream",
          "text": [
            "               Actual  Predicted\n",
            "Date                            \n",
            "2017-10-20  39.062500  39.273396\n",
            "2015-01-06  26.565001  26.421170\n",
            "2018-03-13  44.992500  45.184695\n",
            "2014-05-06  21.228930  21.328843\n",
            "2019-02-06  43.560001  43.511893\n",
            "...               ...        ...\n",
            "2019-05-07  50.715000  50.785358\n",
            "2015-11-30  29.575001  29.737178\n",
            "2014-02-04  18.171070  18.049336\n",
            "2018-05-07  46.290001  46.705067\n",
            "2014-03-10  18.961430  19.013493\n",
            "\n",
            "[467 rows x 2 columns]\n"
          ],
          "name": "stdout"
        }
      ]
    },
    {
      "cell_type": "code",
      "metadata": {
        "id": "9Mwuk-pcOwgB",
        "colab": {
          "base_uri": "https://localhost:8080/",
          "height": 864
        },
        "outputId": "56e75088-a961-4db4-d181-71cddc50bd99"
      },
      "source": [
        "dfr.head(25)"
      ],
      "execution_count": null,
      "outputs": [
        {
          "output_type": "execute_result",
          "data": {
            "text/html": [
              "<div>\n",
              "<style scoped>\n",
              "    .dataframe tbody tr th:only-of-type {\n",
              "        vertical-align: middle;\n",
              "    }\n",
              "\n",
              "    .dataframe tbody tr th {\n",
              "        vertical-align: top;\n",
              "    }\n",
              "\n",
              "    .dataframe thead th {\n",
              "        text-align: right;\n",
              "    }\n",
              "</style>\n",
              "<table border=\"1\" class=\"dataframe\">\n",
              "  <thead>\n",
              "    <tr style=\"text-align: right;\">\n",
              "      <th></th>\n",
              "      <th>Actual</th>\n",
              "      <th>Predicted</th>\n",
              "    </tr>\n",
              "    <tr>\n",
              "      <th>Date</th>\n",
              "      <th></th>\n",
              "      <th></th>\n",
              "    </tr>\n",
              "  </thead>\n",
              "  <tbody>\n",
              "    <tr>\n",
              "      <th>2017-10-20</th>\n",
              "      <td>39.062500</td>\n",
              "      <td>39.273396</td>\n",
              "    </tr>\n",
              "    <tr>\n",
              "      <th>2015-01-06</th>\n",
              "      <td>26.565001</td>\n",
              "      <td>26.421170</td>\n",
              "    </tr>\n",
              "    <tr>\n",
              "      <th>2018-03-13</th>\n",
              "      <td>44.992500</td>\n",
              "      <td>45.184695</td>\n",
              "    </tr>\n",
              "    <tr>\n",
              "      <th>2014-05-06</th>\n",
              "      <td>21.228930</td>\n",
              "      <td>21.328843</td>\n",
              "    </tr>\n",
              "    <tr>\n",
              "      <th>2019-02-06</th>\n",
              "      <td>43.560001</td>\n",
              "      <td>43.511893</td>\n",
              "    </tr>\n",
              "    <tr>\n",
              "      <th>2020-01-09</th>\n",
              "      <td>77.407501</td>\n",
              "      <td>77.246048</td>\n",
              "    </tr>\n",
              "    <tr>\n",
              "      <th>2019-08-22</th>\n",
              "      <td>53.115002</td>\n",
              "      <td>53.090886</td>\n",
              "    </tr>\n",
              "    <tr>\n",
              "      <th>2014-01-29</th>\n",
              "      <td>17.883928</td>\n",
              "      <td>17.889810</td>\n",
              "    </tr>\n",
              "    <tr>\n",
              "      <th>2020-08-04</th>\n",
              "      <td>109.665001</td>\n",
              "      <td>109.847714</td>\n",
              "    </tr>\n",
              "    <tr>\n",
              "      <th>2014-03-20</th>\n",
              "      <td>18.882143</td>\n",
              "      <td>18.931946</td>\n",
              "    </tr>\n",
              "    <tr>\n",
              "      <th>2021-02-18</th>\n",
              "      <td>129.710007</td>\n",
              "      <td>128.458112</td>\n",
              "    </tr>\n",
              "    <tr>\n",
              "      <th>2020-11-06</th>\n",
              "      <td>118.690002</td>\n",
              "      <td>117.311169</td>\n",
              "    </tr>\n",
              "    <tr>\n",
              "      <th>2021-01-20</th>\n",
              "      <td>132.029999</td>\n",
              "      <td>131.545501</td>\n",
              "    </tr>\n",
              "    <tr>\n",
              "      <th>2015-03-18</th>\n",
              "      <td>32.117500</td>\n",
              "      <td>32.034109</td>\n",
              "    </tr>\n",
              "    <tr>\n",
              "      <th>2017-07-06</th>\n",
              "      <td>35.682499</td>\n",
              "      <td>35.757338</td>\n",
              "    </tr>\n",
              "    <tr>\n",
              "      <th>2017-02-01</th>\n",
              "      <td>32.187500</td>\n",
              "      <td>32.375082</td>\n",
              "    </tr>\n",
              "    <tr>\n",
              "      <th>2016-01-28</th>\n",
              "      <td>23.522499</td>\n",
              "      <td>23.310748</td>\n",
              "    </tr>\n",
              "    <tr>\n",
              "      <th>2019-03-29</th>\n",
              "      <td>47.487499</td>\n",
              "      <td>47.287172</td>\n",
              "    </tr>\n",
              "    <tr>\n",
              "      <th>2019-01-07</th>\n",
              "      <td>36.982498</td>\n",
              "      <td>36.653480</td>\n",
              "    </tr>\n",
              "    <tr>\n",
              "      <th>2016-04-12</th>\n",
              "      <td>27.610001</td>\n",
              "      <td>27.445424</td>\n",
              "    </tr>\n",
              "    <tr>\n",
              "      <th>2019-02-12</th>\n",
              "      <td>42.722500</td>\n",
              "      <td>42.653262</td>\n",
              "    </tr>\n",
              "    <tr>\n",
              "      <th>2014-08-22</th>\n",
              "      <td>25.330000</td>\n",
              "      <td>25.288892</td>\n",
              "    </tr>\n",
              "    <tr>\n",
              "      <th>2016-05-03</th>\n",
              "      <td>23.795000</td>\n",
              "      <td>23.740849</td>\n",
              "    </tr>\n",
              "    <tr>\n",
              "      <th>2017-07-31</th>\n",
              "      <td>37.182499</td>\n",
              "      <td>37.240735</td>\n",
              "    </tr>\n",
              "    <tr>\n",
              "      <th>2018-02-09</th>\n",
              "      <td>39.102501</td>\n",
              "      <td>38.063035</td>\n",
              "    </tr>\n",
              "  </tbody>\n",
              "</table>\n",
              "</div>"
            ],
            "text/plain": [
              "                Actual   Predicted\n",
              "Date                              \n",
              "2017-10-20   39.062500   39.273396\n",
              "2015-01-06   26.565001   26.421170\n",
              "2018-03-13   44.992500   45.184695\n",
              "2014-05-06   21.228930   21.328843\n",
              "2019-02-06   43.560001   43.511893\n",
              "2020-01-09   77.407501   77.246048\n",
              "2019-08-22   53.115002   53.090886\n",
              "2014-01-29   17.883928   17.889810\n",
              "2020-08-04  109.665001  109.847714\n",
              "2014-03-20   18.882143   18.931946\n",
              "2021-02-18  129.710007  128.458112\n",
              "2020-11-06  118.690002  117.311169\n",
              "2021-01-20  132.029999  131.545501\n",
              "2015-03-18   32.117500   32.034109\n",
              "2017-07-06   35.682499   35.757338\n",
              "2017-02-01   32.187500   32.375082\n",
              "2016-01-28   23.522499   23.310748\n",
              "2019-03-29   47.487499   47.287172\n",
              "2019-01-07   36.982498   36.653480\n",
              "2016-04-12   27.610001   27.445424\n",
              "2019-02-12   42.722500   42.653262\n",
              "2014-08-22   25.330000   25.288892\n",
              "2016-05-03   23.795000   23.740849\n",
              "2017-07-31   37.182499   37.240735\n",
              "2018-02-09   39.102501   38.063035"
            ]
          },
          "metadata": {
            "tags": []
          },
          "execution_count": 28
        }
      ]
    },
    {
      "cell_type": "code",
      "metadata": {
        "id": "dqNy_L5zOyyW"
      },
      "source": [
        "from sklearn.metrics import confusion_matrix, accuracy_score"
      ],
      "execution_count": null,
      "outputs": []
    },
    {
      "cell_type": "code",
      "metadata": {
        "id": "Me0Ee4EmO0mq"
      },
      "source": [
        "#regressor.score(X_test,y_test)"
      ],
      "execution_count": null,
      "outputs": []
    },
    {
      "cell_type": "code",
      "metadata": {
        "id": "LGnvopkuO3ZQ"
      },
      "source": [
        "import math"
      ],
      "execution_count": null,
      "outputs": []
    },
    {
      "cell_type": "code",
      "metadata": {
        "id": "rJd70vu1O5Dz",
        "colab": {
          "base_uri": "https://localhost:8080/"
        },
        "outputId": "41c3a4a1-b5a5-493b-9830-bbe31786540b"
      },
      "source": [
        "print('Mean Absolute Error:',metrics.mean_absolute_error(y_test,predicted))"
      ],
      "execution_count": null,
      "outputs": [
        {
          "output_type": "stream",
          "text": [
            "Mean Absolute Error: 0.2377164733201697\n"
          ],
          "name": "stdout"
        }
      ]
    },
    {
      "cell_type": "code",
      "metadata": {
        "id": "C6PTfcdZPTJz",
        "colab": {
          "base_uri": "https://localhost:8080/"
        },
        "outputId": "5177fdb4-08d5-4e5c-ed30-679055aa1be3"
      },
      "source": [
        "print('Mean Squared  Error:',metrics.mean_squared_error(y_test,predicted))"
      ],
      "execution_count": null,
      "outputs": [
        {
          "output_type": "stream",
          "text": [
            "Mean Squared  Error: 0.2510914093778794\n"
          ],
          "name": "stdout"
        }
      ]
    },
    {
      "cell_type": "code",
      "metadata": {
        "id": "A2DAkP28PUw8",
        "colab": {
          "base_uri": "https://localhost:8080/"
        },
        "outputId": "d8f02b3d-ab3d-4986-e76f-a3721bb092ec"
      },
      "source": [
        "print('Root Mean Squared Error:',math.sqrt(metrics.mean_squared_error(y_test,predicted)))"
      ],
      "execution_count": null,
      "outputs": [
        {
          "output_type": "stream",
          "text": [
            "Root Mean Squared Error: 0.5010902207964942\n"
          ],
          "name": "stdout"
        }
      ]
    },
    {
      "cell_type": "code",
      "metadata": {
        "id": "9QzKhYLOPWd2"
      },
      "source": [
        "graph=dfr.head(20)"
      ],
      "execution_count": null,
      "outputs": []
    },
    {
      "cell_type": "code",
      "metadata": {
        "id": "SjDUMw9SPYAr",
        "colab": {
          "base_uri": "https://localhost:8080/",
          "height": 391
        },
        "outputId": "d223fdf1-031e-4127-f70f-9e81a47f1fd0"
      },
      "source": [
        "graph.plot(kind='bar')"
      ],
      "execution_count": null,
      "outputs": [
        {
          "output_type": "execute_result",
          "data": {
            "text/plain": [
              "<matplotlib.axes._subplots.AxesSubplot at 0x7f4ce0cd95d0>"
            ]
          },
          "metadata": {
            "tags": []
          },
          "execution_count": 36
        },
        {
          "output_type": "display_data",
          "data": {
            "image/png": "[encoded data removed]",
            "text/plain": [
              "<Figure size 432x288 with 1 Axes>"
            ]
          },
          "metadata": {
            "tags": [],
            "needs_background": "light"
          }
        }
      ]
    },
    {
      "cell_type": "code",
      "metadata": {
        "id": "wGrhimVlPZxm"
      },
      "source": [],
      "execution_count": null,
      "outputs": []
    }
  ]
}