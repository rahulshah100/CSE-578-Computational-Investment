{
 "cells": [
  {
   "cell_type": "code",
   "execution_count": 29,
   "id": "aa44610e",
   "metadata": {},
   "outputs": [
    {
     "name": "stdout",
     "output_type": "stream",
     "text": [
      "None\n"
     ]
    }
   ],
   "source": [
    "import numpy as np \n",
    "import pandas as pd \n",
    "import matplotlib.pyplot as plt\n",
    "import pandas_datareader as web\n",
    "from pandas.plotting import lag_plot\n",
    "from datetime import datetime\n",
    "from statsmodels.tsa.arima.model import ARIMA\n",
    "from sklearn.metrics import mean_squared_error\n",
    "from datetime import datetime\n",
    "import yfinance as yf\n",
    "import pandas_datareader.data as pdr\n",
    "import statsmodels.api as smapi\n",
    "print(yf.pdr_override())"
   ]
  },
  {
   "cell_type": "code",
   "execution_count": 30,
   "id": "ac74fe5c",
   "metadata": {},
   "outputs": [],
   "source": [
    "import warnings\n",
    "warnings.filterwarnings('ignore')"
   ]
  },
  {
   "cell_type": "code",
   "execution_count": 31,
   "id": "7b24d2ea",
   "metadata": {},
   "outputs": [],
   "source": [
    "data = pd.read_csv(\"Train_Status.csv\")"
   ]
  },
  {
   "cell_type": "code",
   "execution_count": 32,
   "id": "7e61abfb",
   "metadata": {},
   "outputs": [
    {
     "data": {
      "text/plain": [
       "Index(['S No', 'Name of Stock'], dtype='object')"
      ]
     },
     "execution_count": 32,
     "metadata": {},
     "output_type": "execute_result"
    }
   ],
   "source": [
    "data.columns"
   ]
  },
  {
   "cell_type": "code",
   "execution_count": 33,
   "id": "4542e16e",
   "metadata": {},
   "outputs": [],
   "source": [
    "def smape_kun(y_true, y_pred):\n",
    "    return np.mean((np.abs(y_pred - y_true) * 200/ (np.abs(y_pred) + np.abs(y_true))))\n",
    "\n",
    "def arima_train(data,test,predict):\n",
    "    predict = int(0.8 * data.shape[0])\n",
    "    train_data, test_data = data[:-(predict)], data[-predict:]\n",
    "    \n",
    "    train_ar = train_data['open'].values\n",
    "    test_ar = test_data['open'].values\n",
    "    history = [x for x in train_ar]\n",
    "    predictions = list()\n",
    "    for t in range(len(test_ar)):\n",
    "        model = ARIMA(history, order=(5,1,0))\n",
    "        model_fit = model.fit()\n",
    "        output = model_fit.forecast()\n",
    "        yhat = output[0]\n",
    "        predictions.append(yhat)\n",
    "        obs = test_ar[t]\n",
    "        history.append(obs)\n",
    "    \n",
    "    error = mean_squared_error(test_ar, predictions)\n",
    "    error2 = smape_kun(test_ar, predictions)\n",
    "    print('Testing Mean Squared Error: %.3f' % error)\n",
    "    print('Symmetric mean absolute percentage error: %.3f' % error2)\n",
    "    test_data['outcome']=predictions\n",
    "    return test_data,error,error2"
   ]
  },
  {
   "cell_type": "code",
   "execution_count": 34,
   "id": "8f1d3a0a",
   "metadata": {},
   "outputs": [
    {
     "data": {
      "text/plain": [
       "Index(['S No', 'Name of Stock'], dtype='object')"
      ]
     },
     "execution_count": 34,
     "metadata": {},
     "output_type": "execute_result"
    }
   ],
   "source": [
    "data.columns"
   ]
  },
  {
   "cell_type": "code",
   "execution_count": 35,
   "id": "e11a9bb9",
   "metadata": {},
   "outputs": [],
   "source": [
    "out = []"
   ]
  },
  {
   "cell_type": "code",
   "execution_count": 36,
   "id": "54e21edb",
   "metadata": {},
   "outputs": [],
   "source": [
    "already = []\n",
    "# [\"AAPL\",\n",
    "# \"MSFT\",\n",
    "# \"AMZN\",\n",
    "# \"GOOGL\",\n",
    "# \"BRK.B\",\n",
    "# \"UNH\",\n",
    "# \"TSLA\",\n",
    "# \"GOOG\",\n",
    "# \"XOM\",\n",
    "# \"JNJ\",\n",
    "# \"JPM\",\n",
    "# \"NVDA\",\n",
    "# \"PG\",\n",
    "# \"V\",\n",
    "# \"CVX\",\n",
    "# \"HD\",\n",
    "# \"LLY\",\n",
    "# \"MA\",\n",
    "# \"BAC\",\n",
    "# \"PFE\",\n",
    "# \"ABBV\",\n",
    "# \"MRK\",\n",
    "# \"META\",\n",
    "# \"PEP\",\n",
    "# \"KO\",\n",
    "# \"COST\",\n",
    "# \"AVGO\",\n",
    "# \"TMO\",\n",
    "# \"MCD\",\n",
    "# \"WMT\",\n",
    "# \"CSCO\",\n",
    "# \"ABT\",\n",
    "# \"WFC\",\n",
    "# \"ACN\"]"
   ]
  },
  {
   "cell_type": "code",
   "execution_count": 37,
   "id": "534ad9c8",
   "metadata": {
    "scrolled": true
   },
   "outputs": [
    {
     "name": "stdout",
     "output_type": "stream",
     "text": [
      "Running ARIMA for :AAPL\n",
      "Running ARIMA for :MSFT\n",
      "Running ARIMA for :AMZN\n",
      "Running ARIMA for :GOOGL\n",
      "Running ARIMA for :BRK.B\n",
      "Running ARIMA for :UNH\n",
      "Running ARIMA for :TSLA\n",
      "Running ARIMA for :GOOG\n",
      "Running ARIMA for :XOM\n",
      "Running ARIMA for :JNJ\n",
      "Running ARIMA for :JPM\n",
      "Running ARIMA for :NVDA\n",
      "Running ARIMA for :PG\n",
      "Running ARIMA for :V\n",
      "Running ARIMA for :CVX\n",
      "Running ARIMA for :HD\n",
      "Running ARIMA for :LLY\n",
      "Running ARIMA for :MA\n",
      "Running ARIMA for :BAC\n",
      "Running ARIMA for :PFE\n",
      "Running ARIMA for :ABBV\n",
      "Running ARIMA for :MRK\n",
      "Running ARIMA for :META\n",
      "Running ARIMA for :PEP\n",
      "Running ARIMA for :KO\n",
      "Running ARIMA for :COST\n",
      "Running ARIMA for :AVGO\n",
      "Running ARIMA for :TMO\n",
      "Running ARIMA for :MCD\n",
      "Running ARIMA for :WMT\n",
      "Running ARIMA for :CSCO\n",
      "Running ARIMA for :ABT\n",
      "Running ARIMA for :WFC\n",
      "Running ARIMA for :ACN\n",
      "Running ARIMA for :DHR\n",
      "Running ARIMA for :BMY\n",
      "Testing Mean Squared Error: 0.913\n",
      "Symmetric mean absolute percentage error: 1.027\n",
      "Running ARIMA for :DIS\n",
      "Testing Mean Squared Error: 1.476\n",
      "Symmetric mean absolute percentage error: 0.832\n",
      "Running ARIMA for :COP\n",
      "Testing Mean Squared Error: 1.126\n",
      "Symmetric mean absolute percentage error: 1.438\n",
      "Running ARIMA for :LIN\n",
      "[*********************100%***********************]  1 of 1 completed\n",
      "Testing Mean Squared Error: 9.656\n",
      "Symmetric mean absolute percentage error: 1.078\n",
      "Running ARIMA for :NEE\n",
      "Testing Mean Squared Error: 1.477\n",
      "Symmetric mean absolute percentage error: 0.780\n",
      "Running ARIMA for :VZ\n",
      "Testing Mean Squared Error: 0.252\n",
      "Symmetric mean absolute percentage error: 0.766\n",
      "Running ARIMA for :TXN\n",
      "Testing Mean Squared Error: 0.831\n",
      "Symmetric mean absolute percentage error: 1.006\n",
      "Running ARIMA for :AMGN\n",
      "Testing Mean Squared Error: 5.871\n",
      "Symmetric mean absolute percentage error: 1.136\n",
      "Running ARIMA for :CRM\n",
      "Testing Mean Squared Error: 1.634\n",
      "Symmetric mean absolute percentage error: 1.230\n",
      "Running ARIMA for :ADBE\n",
      "Testing Mean Squared Error: 2.715\n",
      "Symmetric mean absolute percentage error: 1.088\n",
      "Running ARIMA for :HON\n",
      "Testing Mean Squared Error: 1.445\n",
      "Symmetric mean absolute percentage error: 0.768\n",
      "Running ARIMA for :PM\n",
      "Testing Mean Squared Error: 0.862\n",
      "Symmetric mean absolute percentage error: 0.735\n",
      "Running ARIMA for :RTX\n",
      "[*********************100%***********************]  1 of 1 completed\n",
      "Testing Mean Squared Error: 1.821\n",
      "Symmetric mean absolute percentage error: 1.182\n",
      "Running ARIMA for :CMCSA\n",
      "Testing Mean Squared Error: 0.167\n",
      "Symmetric mean absolute percentage error: 0.921\n",
      "Running ARIMA for :QCOM\n",
      "Testing Mean Squared Error: 1.084\n",
      "Symmetric mean absolute percentage error: 1.087\n"
     ]
    }
   ],
   "source": [
    "for i in data[\"Name of Stock\"]:\n",
    "        print(\"Running ARIMA for :\"+i)\n",
    "        if i not in already:\n",
    "            try:\n",
    "                data = pd.read_csv(\"individual_stocks_5yr/\"+i+\"_data.csv\")\n",
    "            except:\n",
    "                start = datetime.strptime('2014-01-01', '%Y-%m-%d')\n",
    "                end = datetime.strptime('2022-06-01', '%Y-%m-%d')\n",
    "                data = pdr.get_data_yahoo(i, start, end).reset_index()\n",
    "                data['DATE'] = data['Date'].apply(lambda x: x.strftime('%Y-%m-%d'))\n",
    "                data.columns = [\"date\",\"open\",\"high\",\"low\",\"close\",'Adj Close',\"volume\",'DATE']\n",
    "            test,predict = 180,12\n",
    "            try:\n",
    "                predict_data,error,error2 = arima_train(data,test,predict)\n",
    "            except:\n",
    "                continue\n",
    "            predict_data.to_csv(\"results/\"+i+\"_results.csv\")\n",
    "    #         predict_data.outcome = predict_data.outcome.apply(lambda x : round(x,2))\n",
    "    #         amount = 10000\n",
    "    #         for k in predict_data.iterrows():\n",
    "    #             k = k[1]\n",
    "    #             if k['high']<k['outcome']<k['close']:\n",
    "    #                 result = (k['outcome']-k['open'])/k['open']\n",
    "    #             else:\n",
    "    #                 result = (k['close']-k['open'])/k['open']\n",
    "    #             amount = (amount*(100+result))/100\n",
    "    #         total_profit = amount - 10000\n",
    "    #         print(total_profit)\n",
    "            out.append([i,error,error2])\n"
   ]
  },
  {
   "cell_type": "code",
   "execution_count": 38,
   "id": "e464f1a1",
   "metadata": {},
   "outputs": [],
   "source": [
    "final_data = pd.DataFrame(columns=[\"Name\",\"MSE\",\"MAPE\"])#,\"Total Profit\"])"
   ]
  },
  {
   "cell_type": "code",
   "execution_count": 39,
   "id": "426bd403",
   "metadata": {},
   "outputs": [],
   "source": [
    "for i,x in enumerate(out):\n",
    "    final_data.loc[i]=x"
   ]
  },
  {
   "cell_type": "code",
   "execution_count": 40,
   "id": "13b41813",
   "metadata": {},
   "outputs": [],
   "source": [
    "final_data.to_csv(\"final_results.csv\")"
   ]
  },
  {
   "cell_type": "code",
   "execution_count": 26,
   "id": "ed0a4851",
   "metadata": {},
   "outputs": [
    {
     "data": {
      "text/plain": [
       "-70.46037204076856"
      ]
     },
     "execution_count": 26,
     "metadata": {},
     "output_type": "execute_result"
    }
   ],
   "source": [
    "final_data['Total Profit'].sum()"
   ]
  },
  {
   "cell_type": "code",
   "execution_count": 41,
   "id": "993efd66",
   "metadata": {},
   "outputs": [
    {
     "data": {
      "text/html": [
       "<div>\n",
       "<style scoped>\n",
       "    .dataframe tbody tr th:only-of-type {\n",
       "        vertical-align: middle;\n",
       "    }\n",
       "\n",
       "    .dataframe tbody tr th {\n",
       "        vertical-align: top;\n",
       "    }\n",
       "\n",
       "    .dataframe thead th {\n",
       "        text-align: right;\n",
       "    }\n",
       "</style>\n",
       "<table border=\"1\" class=\"dataframe\">\n",
       "  <thead>\n",
       "    <tr style=\"text-align: right;\">\n",
       "      <th></th>\n",
       "      <th>Name</th>\n",
       "      <th>MSE</th>\n",
       "      <th>MAPE</th>\n",
       "    </tr>\n",
       "  </thead>\n",
       "  <tbody>\n",
       "    <tr>\n",
       "      <th>0</th>\n",
       "      <td>BMY</td>\n",
       "      <td>0.913348</td>\n",
       "      <td>1.027050</td>\n",
       "    </tr>\n",
       "    <tr>\n",
       "      <th>1</th>\n",
       "      <td>DIS</td>\n",
       "      <td>1.476159</td>\n",
       "      <td>0.832087</td>\n",
       "    </tr>\n",
       "    <tr>\n",
       "      <th>2</th>\n",
       "      <td>COP</td>\n",
       "      <td>1.125577</td>\n",
       "      <td>1.438312</td>\n",
       "    </tr>\n",
       "    <tr>\n",
       "      <th>3</th>\n",
       "      <td>LIN</td>\n",
       "      <td>9.655961</td>\n",
       "      <td>1.077956</td>\n",
       "    </tr>\n",
       "    <tr>\n",
       "      <th>4</th>\n",
       "      <td>NEE</td>\n",
       "      <td>1.476863</td>\n",
       "      <td>0.780152</td>\n",
       "    </tr>\n",
       "    <tr>\n",
       "      <th>5</th>\n",
       "      <td>VZ</td>\n",
       "      <td>0.251899</td>\n",
       "      <td>0.766363</td>\n",
       "    </tr>\n",
       "    <tr>\n",
       "      <th>6</th>\n",
       "      <td>TXN</td>\n",
       "      <td>0.831313</td>\n",
       "      <td>1.006272</td>\n",
       "    </tr>\n",
       "    <tr>\n",
       "      <th>7</th>\n",
       "      <td>AMGN</td>\n",
       "      <td>5.871194</td>\n",
       "      <td>1.135842</td>\n",
       "    </tr>\n",
       "    <tr>\n",
       "      <th>8</th>\n",
       "      <td>CRM</td>\n",
       "      <td>1.634342</td>\n",
       "      <td>1.230486</td>\n",
       "    </tr>\n",
       "    <tr>\n",
       "      <th>9</th>\n",
       "      <td>ADBE</td>\n",
       "      <td>2.715462</td>\n",
       "      <td>1.088267</td>\n",
       "    </tr>\n",
       "    <tr>\n",
       "      <th>10</th>\n",
       "      <td>HON</td>\n",
       "      <td>1.445152</td>\n",
       "      <td>0.768092</td>\n",
       "    </tr>\n",
       "    <tr>\n",
       "      <th>11</th>\n",
       "      <td>PM</td>\n",
       "      <td>0.862171</td>\n",
       "      <td>0.735437</td>\n",
       "    </tr>\n",
       "    <tr>\n",
       "      <th>12</th>\n",
       "      <td>RTX</td>\n",
       "      <td>1.820510</td>\n",
       "      <td>1.181882</td>\n",
       "    </tr>\n",
       "    <tr>\n",
       "      <th>13</th>\n",
       "      <td>CMCSA</td>\n",
       "      <td>0.166615</td>\n",
       "      <td>0.921341</td>\n",
       "    </tr>\n",
       "    <tr>\n",
       "      <th>14</th>\n",
       "      <td>QCOM</td>\n",
       "      <td>1.083724</td>\n",
       "      <td>1.087450</td>\n",
       "    </tr>\n",
       "  </tbody>\n",
       "</table>\n",
       "</div>"
      ],
      "text/plain": [
       "     Name       MSE      MAPE\n",
       "0     BMY  0.913348  1.027050\n",
       "1     DIS  1.476159  0.832087\n",
       "2     COP  1.125577  1.438312\n",
       "3     LIN  9.655961  1.077956\n",
       "4     NEE  1.476863  0.780152\n",
       "5      VZ  0.251899  0.766363\n",
       "6     TXN  0.831313  1.006272\n",
       "7    AMGN  5.871194  1.135842\n",
       "8     CRM  1.634342  1.230486\n",
       "9    ADBE  2.715462  1.088267\n",
       "10    HON  1.445152  0.768092\n",
       "11     PM  0.862171  0.735437\n",
       "12    RTX  1.820510  1.181882\n",
       "13  CMCSA  0.166615  0.921341\n",
       "14   QCOM  1.083724  1.087450"
      ]
     },
     "execution_count": 41,
     "metadata": {},
     "output_type": "execute_result"
    }
   ],
   "source": [
    "final_data"
   ]
  },
  {
   "cell_type": "code",
   "execution_count": null,
   "id": "95a47fbc",
   "metadata": {},
   "outputs": [],
   "source": []
  }
 ],
 "metadata": {
  "kernelspec": {
   "display_name": "Python 3 (ipykernel)",
   "language": "python",
   "name": "python3"
  },
  "language_info": {
   "codemirror_mode": {
    "name": "ipython",
    "version": 3
   },
   "file_extension": ".py",
   "mimetype": "text/x-python",
   "name": "python",
   "nbconvert_exporter": "python",
   "pygments_lexer": "ipython3",
   "version": "3.9.7"
  }
 },
 "nbformat": 4,
 "nbformat_minor": 5
}
